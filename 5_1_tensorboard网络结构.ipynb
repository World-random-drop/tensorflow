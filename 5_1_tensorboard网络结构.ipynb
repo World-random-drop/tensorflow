{
 "cells": [
  {
   "cell_type": "code",
   "execution_count": 3,
   "metadata": {},
   "outputs": [
    {
     "name": "stdout",
     "output_type": "stream",
     "text": [
      "Extracting MNIST_data\\train-images-idx3-ubyte.gz\n",
      "Extracting MNIST_data\\train-labels-idx1-ubyte.gz\n",
      "Extracting MNIST_data\\t10k-images-idx3-ubyte.gz\n",
      "Extracting MNIST_data\\t10k-labels-idx1-ubyte.gz\n",
      "Iter 0Test accuracy0.8253\n"
     ]
    }
   ],
   "source": [
    "import tensorflow as tf\n",
    "from tensorflow.examples.tutorials.mnist import input_data"
   ]
  },
  {
   "cell_type": "code",
   "execution_count": null,
   "metadata": {},
   "outputs": [],
   "source": [
    "mnist = input_data.read_data_sets(\"MNIST_data\", one_hot=True)\n",
    "\n",
    "batch_size = 100  # 可优化\n",
    "n_batch = int(mnist.train.num_examples/batch_size)\n",
    "\n",
    "#命名空间\n",
    "with tf.name_scope(\"input\"):\n",
    "    x = tf.placeholder(tf.float32, [None, 784],name=\"x-input\")\n",
    "    y = tf.placeholder(tf.float32, [None, 10] ,name=\"y-input\")\n",
    "\n",
    "# 创建简单神经网络（可优化）\n",
    "with tf.name_scope(\"layout\"):\n",
    "    with tf.name_scope(\"wights\"):\n",
    "        W = tf.Variable(tf.zeros([784, 10]),name=\"W\")\n",
    "    with tf.name_scope(\"biases\"):\n",
    "        b = tf.Variable(tf.zeros([10]),name=\"b\")\n",
    "    with tf.name_scope(\"wx_plus_b\"):\n",
    "        wx_plus_b=tf.matmul(x, W) + b\n",
    "    with tf.name_scope(\"predict\"):\n",
    "        predict = tf.nn.softmax(wx_plus_b)  # softmax将输出信号转化为概率值（10个概率值）\n",
    "\n",
    "# 可使用交叉熵代价函数来优化\n",
    "with tf.name_scope(\"loss\"):\n",
    "    loss = tf.reduce_mean(tf.nn.softmax_cross_entropy_with_logits_v2(labels=y,logits=predict))\n",
    "# 使用梯度下降法训练，使得loss最小（#可优化）\n",
    "with tf.name_scope(\"train\"):\n",
    "    train_step = tf.train.GradientDescentOptimizer(0.2).minimize(loss)\n",
    "# 初始化变量\n",
    "init = tf.global_variables_initializer()\n",
    "\n",
    "with tf.name_scope(\"accuracy\"):\n",
    "    # 比较概率最大的标签是否相同，结果存放在一个布尔型列表中\n",
    "    with tf.name_scope(\"correct_predict\"):\n",
    "        correct_predict = tf.equal(tf.argmax(y, 1), tf.argmax(predict, 1))  # argmax返回一维张量中最大值所在的位置\n",
    "    # 求准确率\n",
    "    with tf.name_scope(\"accu\"):\n",
    "        accuracy = tf.reduce_mean(tf.cast(correct_predict, tf.float32))  # reduce_mean求平均值\n",
    "\n",
    "with tf.Session() as sess:\n",
    "    sess.run(init)\n",
    "    write=tf.summary.FileWriter(\"logs/\",sess.graph)#路径\n",
    "    for epoch in range(1):  # 可优化\n",
    "        for batch in range(n_batch):  # 把所有图片训练一次\n",
    "            batch_xs, batch_ys = mnist.train.next_batch(batch_size)\n",
    "            sess.run(train_step, feed_dict={x: batch_xs, y: batch_ys})\n",
    "        # 用测试数据来检验训练好的模型\n",
    "        acc = sess.run(accuracy, feed_dict={x: mnist.test.images, y: mnist.test.labels})\n",
    "        print(\"Iter \" + str(epoch) + \"Test accuracy\" + str(acc))"
   ]
  },
  {
   "cell_type": "markdown",
   "metadata": {},
   "source": [
    "当出现No graph definition files were found时：\n",
    "\n",
    "1.将cmd的默认路径cd到log文件的上一层，即cd /d E:\\MyTensorBoard，\n",
    "之后等号后面直接键入log文件名即可，不需写全路径，即 tensorboard --logdir=logs。\n",
    "2.路径不包含有中文"
   ]
  },
  {
   "cell_type": "code",
   "execution_count": null,
   "metadata": {},
   "outputs": [],
   "source": []
  }
 ],
 "metadata": {
  "kernelspec": {
   "display_name": "Python 3",
   "language": "python",
   "name": "python3"
  },
  "language_info": {
   "codemirror_mode": {
    "name": "ipython",
    "version": 3
   },
   "file_extension": ".py",
   "mimetype": "text/x-python",
   "name": "python",
   "nbconvert_exporter": "python",
   "pygments_lexer": "ipython3",
   "version": "3.7.7"
  }
 },
 "nbformat": 4,
 "nbformat_minor": 4
}

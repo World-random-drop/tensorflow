{
 "cells": [
  {
   "cell_type": "code",
   "execution_count": 1,
   "metadata": {},
   "outputs": [
    {
     "name": "stdout",
     "output_type": "stream",
     "text": [
      "packs loaded\n"
     ]
    }
   ],
   "source": [
    "import numpy as np\n",
    "import tensorflow as tf\n",
    "import matplotlib.pyplot as plt\n",
    "from tensorflow.examples.tutorials.mnist import input_data\n",
    "#import input_data\n",
    "\n",
    "print(\"packs loaded\")"
   ]
  },
  {
   "cell_type": "code",
   "execution_count": 3,
   "metadata": {},
   "outputs": [
    {
     "name": "stdout",
     "output_type": "stream",
     "text": [
      "Extracting MNIST_data/train-images-idx3-ubyte.gz\n",
      "Extracting MNIST_data/train-labels-idx1-ubyte.gz\n",
      "Extracting MNIST_data/t10k-images-idx3-ubyte.gz\n",
      "Extracting MNIST_data/t10k-labels-idx1-ubyte.gz\n",
      " type of 'mnist' is <class 'tensorflow.contrib.learn.python.learn.datasets.base.Datasets'>\n",
      " number of trian data is 55000\n",
      " number of test data is 10000\n"
     ]
    }
   ],
   "source": [
    "mnist = input_data.read_data_sets('MNIST_data/', one_hot=True)#读热编码\n",
    "\n",
    "print(\" type of 'mnist' is %s\" % (type(mnist)))\n",
    "print(\" number of trian data is %d\" % (mnist.train.num_examples))\n",
    "print(\" number of test data is %d\" % (mnist.test.num_examples))"
   ]
  },
  {
   "cell_type": "code",
   "execution_count": 6,
   "metadata": {},
   "outputs": [
    {
     "name": "stdout",
     "output_type": "stream",
     "text": [
      "Iter 0  Test accuracy0.8111\n",
      "Iter 1  Test accuracy0.8244\n",
      "Iter 2  Test accuracy0.8717\n",
      "Iter 3  Test accuracy0.8918\n",
      "Iter 4  Test accuracy0.898\n",
      "Iter 5  Test accuracy0.9011\n",
      "Iter 6  Test accuracy0.9041\n",
      "Iter 7  Test accuracy0.9057\n",
      "Iter 8  Test accuracy0.9075\n",
      "Iter 9  Test accuracy0.9083\n",
      "Iter 10  Test accuracy0.9095\n",
      "Iter 11  Test accuracy0.9097\n",
      "Iter 12  Test accuracy0.9105\n",
      "Iter 13  Test accuracy0.9119\n",
      "Iter 14  Test accuracy0.9128\n",
      "Iter 15  Test accuracy0.9132\n",
      "Iter 16  Test accuracy0.9145\n",
      "Iter 17  Test accuracy0.9145\n",
      "Iter 18  Test accuracy0.9152\n",
      "Iter 19  Test accuracy0.9161\n",
      "Iter 20  Test accuracy0.9165\n"
     ]
    }
   ],
   "source": [
    "#每个批次大小\n",
    "batch_size = 100  # 可优化\n",
    "n_batch = mnist.train.num_examples//batch_size\n",
    "\n",
    "# 定义两个placeholder（训练数据集和标签）\n",
    "x = tf.placeholder(tf.float32, [None, 784])\n",
    "y = tf.placeholder(tf.float32, [None, 10])\n",
    "\n",
    "# 创建简单神经网络（可优化）\n",
    "W = tf.Variable(tf.zeros([784, 10]))\n",
    "b = tf.Variable(tf.zeros([1,10]))\n",
    "predict = tf.nn.softmax(tf.matmul(x, W) + b)  # softmax将输出信号转化为概率值（10个概率值）\n",
    "\n",
    "# 二次代价函数（可使用交叉熵代价函数或对数似然代价函数来优化）\n",
    "loss = tf.reduce_mean(tf.square(y - predict))\n",
    "#loss = tf.reduce_mean(tf.nn.softmax_cross_entropy_with_logits_v2(labels=y,logits=predict))\n",
    "# 使用梯度下降法训练，使得loss最小（#可优化）\n",
    "train_step = tf.train.GradientDescentOptimizer(0.1).minimize(loss)\n",
    "\n",
    "# 初始化变量\n",
    "init = tf.global_variables_initializer()\n",
    "\n",
    "# 比较概率最大的标签是否相同，结果存放在一个布尔型列表中\n",
    "# argmax返回一维张量中最大值所在的位置,1为按行返回0按列返回 \n",
    "correct_predict = tf.equal(tf.argmax(y, 1), tf.argmax(predict, 1))  \n",
    "# 求准确率\n",
    "accuracy = tf.reduce_mean(tf.cast(correct_predict, tf.float32))  # reduce_mean求平均值\n",
    "\n",
    "saver=tf.train.Saver()\n",
    "with tf.Session() as sess:\n",
    "    sess.run(init)\n",
    "    for epoch in range(21):  # 可优化\n",
    "        for batch in range(n_batch):  # 把所有图片训练一次\n",
    "            batch_xs, batch_ys = mnist.train.next_batch(batch_size)\n",
    "            sess.run(train_step, feed_dict={x: batch_xs, y: batch_ys})\n",
    "            \n",
    "        # 用测试数据来检验训练好的模型\n",
    "        acc = sess.run(accuracy, feed_dict={x: mnist.test.images, y: mnist.test.labels})\n",
    "        print(\"Iter \" + str(epoch) + \"  Test accuracy\" + str(acc))\n",
    "    #保存模型\n",
    "    saver.save(sess,'model/mnist')"
   ]
  },
  {
   "cell_type": "code",
   "execution_count": null,
   "metadata": {},
   "outputs": [],
   "source": []
  }
 ],
 "metadata": {
  "kernelspec": {
   "display_name": "Python 3",
   "language": "python",
   "name": "python3"
  },
  "language_info": {
   "codemirror_mode": {
    "name": "ipython",
    "version": 3
   },
   "file_extension": ".py",
   "mimetype": "text/x-python",
   "name": "python",
   "nbconvert_exporter": "python",
   "pygments_lexer": "ipython3",
   "version": "3.7.7"
  }
 },
 "nbformat": 4,
 "nbformat_minor": 4
}
